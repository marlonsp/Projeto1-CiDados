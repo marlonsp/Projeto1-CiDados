{
 "cells": [
  {
   "cell_type": "markdown",
   "metadata": {},
   "source": [
    "# Projeto 1 - Ciência dos Dados"
   ]
  },
  {
   "cell_type": "markdown",
   "metadata": {},
   "source": [
    "Nome: Fernanda de Oliveira Pereira\n",
    "\n",
    "Nome: Marlon Silva Pereira"
   ]
  },
  {
   "cell_type": "markdown",
   "metadata": {},
   "source": [
    "Atenção: Serão permitidos grupos de três pessoas, mas com uma rubrica mais exigente. Grupos deste tamanho precisarão fazer um questionário de avaliação de trabalho em equipe"
   ]
  },
  {
   "cell_type": "markdown",
   "metadata": {},
   "source": [
    "___\n",
    "Carregando algumas bibliotecas:"
   ]
  },
  {
   "cell_type": "code",
   "execution_count": 1,
   "metadata": {},
   "outputs": [],
   "source": [
    "%matplotlib inline\n",
    "import pandas as pd\n",
    "import matplotlib.pyplot as plt\n",
    "import numpy as np\n",
    "import os"
   ]
  },
  {
   "cell_type": "code",
   "execution_count": 2,
   "metadata": {
    "scrolled": false
   },
   "outputs": [
    {
     "name": "stdout",
     "output_type": "stream",
     "text": [
      "Esperamos trabalhar no diretório\n",
      "C:\\Users\\Marlon\\Desktop\\2º sem\\Ciência dos Dados\\Projeto 1\n"
     ]
    }
   ],
   "source": [
    "print('Esperamos trabalhar no diretório')\n",
    "print(os.getcwd())"
   ]
  },
  {
   "cell_type": "markdown",
   "metadata": {},
   "source": [
    "Carregando a base de dados com os tweets classificados como relevantes e não relevantes:"
   ]
  },
  {
   "cell_type": "code",
   "execution_count": 3,
   "metadata": {},
   "outputs": [],
   "source": [
    "filename = 'Iphone 13.xlsx'"
   ]
  },
  {
   "cell_type": "code",
   "execution_count": 4,
   "metadata": {},
   "outputs": [
    {
     "data": {
      "text/html": [
       "<div>\n",
       "<style scoped>\n",
       "    .dataframe tbody tr th:only-of-type {\n",
       "        vertical-align: middle;\n",
       "    }\n",
       "\n",
       "    .dataframe tbody tr th {\n",
       "        vertical-align: top;\n",
       "    }\n",
       "\n",
       "    .dataframe thead th {\n",
       "        text-align: right;\n",
       "    }\n",
       "</style>\n",
       "<table border=\"1\" class=\"dataframe\">\n",
       "  <thead>\n",
       "    <tr style=\"text-align: right;\">\n",
       "      <th></th>\n",
       "      <th>Treinamento</th>\n",
       "      <th>Relevância</th>\n",
       "    </tr>\n",
       "  </thead>\n",
       "  <tbody>\n",
       "    <tr>\n",
       "      <th>0</th>\n",
       "      <td>que palhaçada é essa do iphone 13</td>\n",
       "      <td>0</td>\n",
       "    </tr>\n",
       "    <tr>\n",
       "      <th>1</th>\n",
       "      <td>não aguento mais esperar sair o iphone 13 pra ...</td>\n",
       "      <td>1</td>\n",
       "    </tr>\n",
       "    <tr>\n",
       "      <th>2</th>\n",
       "      <td>o iphone 13 é q podia se despachar a sair</td>\n",
       "      <td>1</td>\n",
       "    </tr>\n",
       "    <tr>\n",
       "      <th>3</th>\n",
       "      <td>#apple pode vir a ter problemas para produzir ...</td>\n",
       "      <td>0</td>\n",
       "    </tr>\n",
       "    <tr>\n",
       "      <th>4</th>\n",
       "      <td>#apple marca evento para 14 de setembro - #iph...</td>\n",
       "      <td>0</td>\n",
       "    </tr>\n",
       "    <tr>\n",
       "      <th>5</th>\n",
       "      <td>gente vocês vão dar 15 conto no iphone 13? sei...</td>\n",
       "      <td>1</td>\n",
       "    </tr>\n",
       "    <tr>\n",
       "      <th>6</th>\n",
       "      <td>eu mal comprei o iphone 12, a apple já tá me m...</td>\n",
       "      <td>1</td>\n",
       "    </tr>\n",
       "    <tr>\n",
       "      <th>7</th>\n",
       "      <td>meu pai preocupado que sumiu “alguns” sacos de...</td>\n",
       "      <td>0</td>\n",
       "    </tr>\n",
       "    <tr>\n",
       "      <th>8</th>\n",
       "      <td>@13numb acho q este ano não vão dropar, setemb...</td>\n",
       "      <td>0</td>\n",
       "    </tr>\n",
       "    <tr>\n",
       "      <th>9</th>\n",
       "      <td>@erick_tiago_ meu primo trabalha na apple, ess...</td>\n",
       "      <td>0</td>\n",
       "    </tr>\n",
       "  </tbody>\n",
       "</table>\n",
       "</div>"
      ],
      "text/plain": [
       "                                         Treinamento  Relevância\n",
       "0                  que palhaçada é essa do iphone 13           0\n",
       "1  não aguento mais esperar sair o iphone 13 pra ...           1\n",
       "2          o iphone 13 é q podia se despachar a sair           1\n",
       "3  #apple pode vir a ter problemas para produzir ...           0\n",
       "4  #apple marca evento para 14 de setembro - #iph...           0\n",
       "5  gente vocês vão dar 15 conto no iphone 13? sei...           1\n",
       "6  eu mal comprei o iphone 12, a apple já tá me m...           1\n",
       "7  meu pai preocupado que sumiu “alguns” sacos de...           0\n",
       "8  @13numb acho q este ano não vão dropar, setemb...           0\n",
       "9  @erick_tiago_ meu primo trabalha na apple, ess...           0"
      ]
     },
     "execution_count": 4,
     "metadata": {},
     "output_type": "execute_result"
    }
   ],
   "source": [
    "train = pd.read_excel(filename)\n",
    "train.head(10)"
   ]
  },
  {
   "cell_type": "code",
   "execution_count": 5,
   "metadata": {},
   "outputs": [
    {
     "data": {
      "text/html": [
       "<div>\n",
       "<style scoped>\n",
       "    .dataframe tbody tr th:only-of-type {\n",
       "        vertical-align: middle;\n",
       "    }\n",
       "\n",
       "    .dataframe tbody tr th {\n",
       "        vertical-align: top;\n",
       "    }\n",
       "\n",
       "    .dataframe thead th {\n",
       "        text-align: right;\n",
       "    }\n",
       "</style>\n",
       "<table border=\"1\" class=\"dataframe\">\n",
       "  <thead>\n",
       "    <tr style=\"text-align: right;\">\n",
       "      <th></th>\n",
       "      <th>Teste</th>\n",
       "      <th>Relevância</th>\n",
       "    </tr>\n",
       "  </thead>\n",
       "  <tbody>\n",
       "    <tr>\n",
       "      <th>0</th>\n",
       "      <td>desculpa, mas eu fui no google procurar se o i...</td>\n",
       "      <td>1</td>\n",
       "    </tr>\n",
       "    <tr>\n",
       "      <th>1</th>\n",
       "      <td>iphone 13: poucos dias antes do lançamento, co...</td>\n",
       "      <td>0</td>\n",
       "    </tr>\n",
       "    <tr>\n",
       "      <th>2</th>\n",
       "      <td>iphone 13 ta vindo já kkkk só falta eu comprar...</td>\n",
       "      <td>0</td>\n",
       "    </tr>\n",
       "    <tr>\n",
       "      <th>3</th>\n",
       "      <td>@pnuke333 @louise_mattoss @baby50644057 oloco ...</td>\n",
       "      <td>0</td>\n",
       "    </tr>\n",
       "    <tr>\n",
       "      <th>4</th>\n",
       "      <td>o povo falando que o whatsapp vai parar de fun...</td>\n",
       "      <td>0</td>\n",
       "    </tr>\n",
       "  </tbody>\n",
       "</table>\n",
       "</div>"
      ],
      "text/plain": [
       "                                               Teste  Relevância\n",
       "0  desculpa, mas eu fui no google procurar se o i...           1\n",
       "1  iphone 13: poucos dias antes do lançamento, co...           0\n",
       "2  iphone 13 ta vindo já kkkk só falta eu comprar...           0\n",
       "3  @pnuke333 @louise_mattoss @baby50644057 oloco ...           0\n",
       "4  o povo falando que o whatsapp vai parar de fun...           0"
      ]
     },
     "execution_count": 5,
     "metadata": {},
     "output_type": "execute_result"
    }
   ],
   "source": [
    "test = pd.read_excel(filename, sheet_name = 'Teste')\n",
    "test.head(5)"
   ]
  },
  {
   "cell_type": "markdown",
   "metadata": {},
   "source": [
    "___\n",
    "## Classificador automático de sentimento\n"
   ]
  },
  {
   "cell_type": "markdown",
   "metadata": {},
   "source": [
    "Faça aqui uma descrição do seu produto e o que considerou como relevante ou não relevante na classificação dos tweets.\n",
    "\n",
    " O Iphone 13 é um novo modelo de celular da Apple. Consideramos relevante os tweets que expressam uma opinão crítica ou elogio. Desconsideram os comentário que faziam piadas, eram referentes a páginas de notícias ou conversas aleatórias entre usuários que citavam o produto."
   ]
  },
  {
   "cell_type": "markdown",
   "metadata": {},
   "source": [
    "___\n",
    "### Montando um Classificador Naive-Bayes\n",
    "\n",
    "Considerando apenas as mensagens da planilha Treinamento, ensine  seu classificador."
   ]
  },
  {
   "cell_type": "code",
   "execution_count": 6,
   "metadata": {},
   "outputs": [],
   "source": [
    "import re \n",
    "\n",
    "def cleanup(text):\n",
    "    \"\"\"\n",
    "        Função de limpeza muito simples que troca alguns sinais básicos por espaços\n",
    "    \"\"\"\n",
    "    #import string\n",
    "    punctuation = '[!-.:?;/@\"]' # Note que os sinais [] são delimitadores de um conjunto.\n",
    "    pattern = re.compile(punctuation)\n",
    "    text_subbed = re.sub(pattern, ' ', text)\n",
    "    return text_subbed\n",
    "\n",
    "def cleanup_palavras(list):\n",
    "    filtro = ['https']\n",
    "    \n",
    "    #Loop para encotrar palavra com 2 letras ou menos e adicionar no filtro\n",
    "    for i in list:\n",
    "        if len(i) <= 2:\n",
    "            filtro.append(i)\n",
    "    \n",
    "    #Verifica se as palavras da lista não estão no filtro, se sim elas não são adicionadas\n",
    "    list = [palavra for palavra in list if palavra not in filtro]\n",
    "    return list\n",
    "\n",
    "#Filtrando as palavras dos tweets relevantes da lista de treinamento\n",
    "tabela_r = train.loc[(train['Relevância'] == 1)]\n",
    "lista_r = tabela_r['Treinamento'].tolist()\n",
    "\n",
    "all_tweets_r = ''\n",
    "for i in lista_r:\n",
    "    all_tweets_r += i\n",
    "\n",
    "tweets_r = cleanup(all_tweets_r.lower())\n",
    "\n",
    "todas_as_palavras_r = tweets_r.split()\n",
    "\n",
    "todas_as_palavras_r = cleanup_palavras(todas_as_palavras_r)\n",
    "\n",
    "#Criando tabela relativa com todas as palvras dos tweets relevantes da lista de treinamento\n",
    "serie_tweets_r = pd.Series(todas_as_palavras_r)\n",
    "tabela_tweets_r_relativo = serie_tweets_r.value_counts(True)"
   ]
  },
  {
   "cell_type": "code",
   "execution_count": 7,
   "metadata": {},
   "outputs": [],
   "source": [
    "#Filtrando as palavras dos tweets irrelevantes da lista de treinamento\n",
    "tabela_i = train.loc[(train['Relevância'] == 0)]\n",
    "lista_i = tabela_i['Treinamento'].tolist()\n",
    "\n",
    "all_tweets_i = ''\n",
    "for i in lista_i:\n",
    "    all_tweets_i += i\n",
    "\n",
    "tweets_i = cleanup(all_tweets_i.lower())\n",
    "\n",
    "todas_as_palavras_i = tweets_i.split()\n",
    "\n",
    "todas_as_palavras_i = cleanup_palavras(todas_as_palavras_i)\n",
    "\n",
    "#Criando tabela relativa com todas as palvras dos tweets relevantes da lista de treinamento\n",
    "serie_tweets_i = pd.Series(todas_as_palavras_i)\n",
    "tabela_tweets_i_relativo = serie_tweets_i.value_counts(True)"
   ]
  },
  {
   "cell_type": "code",
   "execution_count": 8,
   "metadata": {},
   "outputs": [],
   "source": [
    "#Filtrando as palavras de todos os tweets da lista de treinamento\n",
    "todas_as_palavras = todas_as_palavras_i + todas_as_palavras_r\n",
    "todas_as_palavras = cleanup_palavras(todas_as_palavras)\n",
    "\n",
    "#Criando tabela relativa com todas as palvras dos tweets da lista de treinamento\n",
    "serie_tweets = pd.Series(todas_as_palavras)\n",
    "tabela_tweets_relativo = serie_tweets.value_counts(True)"
   ]
  },
  {
   "cell_type": "code",
   "execution_count": 9,
   "metadata": {},
   "outputs": [],
   "source": [
    "#Função que classifica cada tweet\n",
    "def teste (tweet):\n",
    "    #Filtrando e separando as palavras do tweet\n",
    "    texto = tweet\n",
    "    texto = cleanup(texto.lower())\n",
    "    tweet_lista = texto.split()\n",
    "    \n",
    "    tweet_filtrado = []\n",
    "    for i in tweet_lista:\n",
    "        if len(i) >= 2:\n",
    "            tweet_filtrado.append(i)\n",
    "    \n",
    "    #Cálculo das probabilidades do tweet ser relevante ou irrelevante\n",
    "    a = serie_tweets_r.shape[0]\n",
    "    b = serie_tweets_i.shape[0]\n",
    "    \n",
    "    probR = a/(a+b)\n",
    "    probI = b/(a+b)\n",
    "    probTweetDadoR = 1\n",
    "    probTweetDadoI = 1\n",
    "    for palavra in tweet_filtrado:\n",
    "        if palavra in todas_as_palavras_r:\n",
    "            probTweetDadoR = probTweetDadoR * tabela_tweets_r_relativo[palavra]\n",
    "        if palavra in todas_as_palavras_i:\n",
    "            probTweetDadoI = probTweetDadoI * tabela_tweets_i_relativo[palavra]\n",
    "    ProbRtweet = probTweetDadoR * probR\n",
    "    ProbItweet = probTweetDadoI * probI\n",
    "    \n",
    "    #Classifica o tweet como relevante ou irrelevante dependendo de qual probabilidade for maior\n",
    "    if ProbRtweet < ProbItweet:\n",
    "        resposta = 1\n",
    "    else:\n",
    "        resposta = 0\n",
    "    return resposta"
   ]
  },
  {
   "cell_type": "markdown",
   "metadata": {},
   "source": [
    "___\n",
    "### Verificando a performance do Classificador\n",
    "\n",
    "Agora você deve testar o seu classificador com a base de Testes."
   ]
  },
  {
   "cell_type": "code",
   "execution_count": 10,
   "metadata": {},
   "outputs": [],
   "source": [
    "#Testando a performance do Classificador com os tweets da tabela de teste\n",
    "tabela_resultado = test\n",
    "resultados = []\n",
    "for i in range(0,200):\n",
    "    resultados.append(teste(tabela_resultado['Teste'][i]))\n",
    "tabela_resultado['Resultados do teste'] = resultados"
   ]
  },
  {
   "cell_type": "code",
   "execution_count": 11,
   "metadata": {},
   "outputs": [
    {
     "name": "stdout",
     "output_type": "stream",
     "text": [
      "VerdadeirosPositivos: 13.50%\n",
      "FalsosPositivos: 19.00%\n",
      "VerdadeirosNegativos: 42.00%\n",
      "FalsosNegativos: 25.50%\n",
      "Acurácia: 55.50%\n"
     ]
    }
   ],
   "source": [
    "#Verificando a ocorrência de Verdadeiros Positivos, Falsos Positivos, Verdadeiros Negativos e Falsos Negativos\n",
    "somaVerdadeirosPositivos = 0\n",
    "somaFalsosPositivos = 0\n",
    "somaVerdadeirosNegativos = 0\n",
    "somaFalsosNegativos = 0\n",
    "for i in range(0,200):\n",
    "    if tabela_resultado['Relevância'][i] == 1 and tabela_resultado['Resultados do teste'][i] == 1:\n",
    "        somaVerdadeirosPositivos += 1\n",
    "    if tabela_resultado['Relevância'][i] == 0 and tabela_resultado['Resultados do teste'][i] == 1:\n",
    "        somaFalsosPositivos += 1\n",
    "    if tabela_resultado['Relevância'][i] == 0 and tabela_resultado['Resultados do teste'][i] == 0:\n",
    "        somaVerdadeirosNegativos += 1\n",
    "    if tabela_resultado['Relevância'][i] == 1 and tabela_resultado['Resultados do teste'][i] == 0:\n",
    "        somaFalsosNegativos += 1\n",
    "total = somaVerdadeirosPositivos + somaFalsosPositivos + somaVerdadeirosNegativos + somaFalsosNegativos \n",
    "\n",
    "#Cálculo da porcentagem de cada ocorrência\n",
    "VerdadeirosPositivos = somaVerdadeirosPositivos/total\n",
    "FalsosPositivos = somaFalsosPositivos/total\n",
    "VerdadeirosNegativos = somaVerdadeirosNegativos/total\n",
    "FalsosNegativos = somaFalsosNegativos/total\n",
    "#Cálcul da acurácia do Classificador\n",
    "acuracia = VerdadeirosPositivos + VerdadeirosNegativos\n",
    "print(\"VerdadeirosPositivos: {0:.2f}%\".format(VerdadeirosPositivos*100))\n",
    "print(\"FalsosPositivos: {0:.2f}%\".format(FalsosPositivos*100))\n",
    "print(\"VerdadeirosNegativos: {0:.2f}%\".format(VerdadeirosNegativos*100))\n",
    "print(\"FalsosNegativos: {0:.2f}%\".format(FalsosNegativos*100))\n",
    "print(\"Acurácia: {0:.2f}%\".format(acuracia*100))"
   ]
  },
  {
   "cell_type": "markdown",
   "metadata": {},
   "source": [
    "___\n",
    "### Concluindo"
   ]
  },
  {
   "cell_type": "markdown",
   "metadata": {},
   "source": [
    "Por conterem no geral palavras que estão mais presentes em tweets relevantes, o classificador não consegue analisar de forma correta tweets com dupla negação ou sarcasmo, pois isso exigiria uma abordagem interpretativo do texto, diferente do simples cálculo de probabilidade usado pelo classificador."
   ]
  },
  {
   "cell_type": "markdown",
   "metadata": {},
   "source": [
    "Os resultados obtidos pelo classificador criado sobre o novo lançamento da Apple \"Iphone 13\" traz uma base completa sobre os pontos favoráveis e desfavoráveis apresentados pelo produto. A partir disso, é possível ampliar a captura da base de dados para aperfeiçoar a acurácia do classificador, e também é possível detalhar as categorias de relevância baseado nas probabilidades calculadas para uma melhor visualização dos resultados."
   ]
  },
  {
   "cell_type": "markdown",
   "metadata": {},
   "source": [
    "Não podemos alimentar nossa base de treinamento automaticamente usando o próprio classificador, aplicado a novos tweets, porque dessa forma o classificador iria propagar os erros e acertos aprendidos com a antiga base de dados, podendo dessa forma reduzir sua acurácia. Para que isso não ocorra, é necessário que a nova base de dados seja previamente classificada manualmente, para assim possibilitar o aumento da acurácia do classificador."
   ]
  },
  {
   "cell_type": "markdown",
   "metadata": {},
   "source": [
    "Assim como usado em nosso projeto, o classificador Naive-Bayes pode ser aplicado em diversos cenários de uso, como exemplo de filtros para mensagens ou e-mails como spam, construir um sistema de recomendações que filtra dados para prever os gostos do usúario de um app ou rede social, calcular possibilidades de pontuações e vitórias em apostas esportivas etc."
   ]
  },
  {
   "cell_type": "markdown",
   "metadata": {},
   "source": [
    "Algumas melhorias que podem ser aplicadas ao classificador são:\n",
    "<br>\n",
    "    Para aumentar a acurácia de nosso classificador é preciso aumentar a base de dados para seu treinamento, e essa base precisa ser calibrada manualmente para garantir o acerto.\n",
    "<br>\n",
    "    É possível aumentar o detalhamento da análise classificando diferentes ordens de relevância para os tweets a partir das probabilidades cálculadas, classificando como \"muito relevantes\" tweets com uma maior probabilidade de serem relevantes, e como \"pouco relevantes\" tweets com uma menor probabilidade de serem relevantes."
   ]
  },
  {
   "cell_type": "markdown",
   "metadata": {},
   "source": [
    "___\n",
    "### Qualidade do Classificador a partir de novas separações dos tweets entre Treinamento e Teste\n",
    "\n",
    "Caso for fazer esse item do Projeto"
   ]
  },
  {
   "cell_type": "code",
   "execution_count": 12,
   "metadata": {},
   "outputs": [],
   "source": [
    "#Import da função random para sortear os tweets das tabelas de treinamento e teste\n",
    "import random\n",
    "\n",
    "#Lista para armazenar os valores de acurácias obtidas em cada teste\n",
    "lista_acuracia=[]\n",
    "\n",
    "#Contador para rodar o looping de testes\n",
    "contador = 0\n",
    "\n",
    "#Looping para testar o Classificador 100 vezes\n",
    "while contador<100:\n",
    "    \n",
    "    #Agrupando aleatóriamente os tweets em novas tabelas de treinamento e teste\n",
    "    todos_tweets = []\n",
    "    todos_tweets_relevancia = []\n",
    "    for i in range(0,200):\n",
    "        todos_tweets.append(test['Teste'][i])\n",
    "        todos_tweets_relevancia.append(test['Relevância'][i])\n",
    "    for i in range(0,300):\n",
    "        todos_tweets.append(train['Treinamento'][i])\n",
    "        todos_tweets_relevancia.append(train['Relevância'][i])\n",
    "    tweet_e_ralevancia = []\n",
    "    for i in range(0,499):\n",
    "        tweet_e_ralevancia.append([todos_tweets[i],todos_tweets_relevancia[i]])\n",
    "    random.shuffle(tweet_e_ralevancia)\n",
    "\n",
    "    new_train_list = []\n",
    "    new_test_list = []\n",
    "    for i in range(0,499):\n",
    "        if i <= 199:\n",
    "            new_train_list.append(tweet_e_ralevancia[i])\n",
    "        else:\n",
    "            new_test_list.append(tweet_e_ralevancia[i])\n",
    "    \n",
    "   #Criando a nova tabela de treinamento\n",
    "    new_train_list_tweets = []\n",
    "    new_train_list_relevancia = []\n",
    "    for i in range(0,199):\n",
    "        new_train_list_tweets.append(new_train_list[i][0])\n",
    "        new_train_list_relevancia.append(new_train_list[i][1])\n",
    "    serie_new_train = pd.Series(new_train_list_tweets)\n",
    "    tabela_new_train = serie_new_train.to_frame(name='Treinamento')\n",
    "    tabela_new_train['Relevância'] = new_train_list_relevancia\n",
    "\n",
    "    #Criando a nova tabela de teste\n",
    "    new_test_list_tweets = []\n",
    "    new_test_list_relevancia = []\n",
    "    for i in range(0,200):\n",
    "        new_test_list_tweets.append(new_test_list[i][0])\n",
    "        new_test_list_relevancia.append(new_test_list[i][1])\n",
    "    serie_new_test = pd.Series(new_test_list_tweets)\n",
    "    tabela_new_test = serie_new_test.to_frame(name='Teste')\n",
    "    tabela_new_test['Relevância'] = new_test_list_relevancia\n",
    "\n",
    "    #Repetição do processo de criar as listas de palavras relevantes, irrelevantes e de todas para os tweets da nova lista de treinamento\n",
    "    tabela_r = tabela_new_train.loc[(tabela_new_train['Relevância'] == 1)]\n",
    "    lista_r = tabela_r['Treinamento'].tolist()\n",
    "    all_tweets_r = ''\n",
    "    for i in lista_r:\n",
    "        all_tweets_r += i\n",
    "    tweets_r = cleanup(all_tweets_r.lower())\n",
    "    todas_as_palavras_r = tweets_r.split()\n",
    "    todas_as_palavras_r = cleanup_palavras(todas_as_palavras_r)\n",
    "    serie_tweets_r = pd.Series(todas_as_palavras_r)\n",
    "    tabela_tweets_r_relativo = serie_tweets_r.value_counts(True)\n",
    "\n",
    "    tabela_i = tabela_new_train.loc[(tabela_new_train['Relevância'] == 0)]\n",
    "    lista_i = tabela_i['Treinamento'].tolist()\n",
    "    all_tweets_i = ''\n",
    "    for i in lista_i:\n",
    "        all_tweets_i += i\n",
    "    tweets_i = cleanup(all_tweets_i.lower())\n",
    "    todas_as_palavras_i = tweets_i.split()\n",
    "    todas_as_palavras_i = cleanup_palavras(todas_as_palavras_i)\n",
    "    serie_tweets_i = pd.Series(todas_as_palavras_i)\n",
    "    tabela_tweets_i_relativo = serie_tweets_i.value_counts(True)\n",
    "\n",
    "    todas_as_palavras = todas_as_palavras_i + todas_as_palavras_r\n",
    "    todas_as_palavras = cleanup_palavras(todas_as_palavras)\n",
    "    serie_tweets = pd.Series(todas_as_palavras)\n",
    "    tabela_tweets_relativo = serie_tweets.value_counts(True)\n",
    "    a = serie_tweets_r.shape[0]\n",
    "    b = serie_tweets_i.shape[0]\n",
    "    \n",
    "    #Classificando os tweets da tabela de teste\n",
    "    tabela_resultado = tabela_new_test\n",
    "    resultados = []\n",
    "    for i in range(0,200):\n",
    "        texto = tabela_resultado['Teste'][i]\n",
    "        texto = cleanup(texto.lower())\n",
    "        tweet_lista = texto.split()\n",
    "\n",
    "        tweet_filtrado = []\n",
    "        for i in tweet_lista:\n",
    "            if len(i) >= 2:\n",
    "                tweet_filtrado.append(i)\n",
    "\n",
    "        probR = a/(a+b)\n",
    "        probI = b/(a+b)\n",
    "        probTweetDadoR = 1\n",
    "        probTweetDadoI = 1\n",
    "        for palavra in tweet_filtrado:\n",
    "            if palavra in todas_as_palavras_r:\n",
    "                probTweetDadoR = probTweetDadoR * tabela_tweets_r_relativo[palavra]\n",
    "            if palavra in todas_as_palavras_i:\n",
    "                probTweetDadoI = probTweetDadoI * tabela_tweets_i_relativo[palavra]\n",
    "        ProbRtweet = probTweetDadoR * probR\n",
    "        ProbItweet = probTweetDadoI * probI\n",
    "        if ProbRtweet < ProbItweet:\n",
    "            resposta = 1\n",
    "        else:\n",
    "            resposta = 0\n",
    "        resultados.append(resposta)\n",
    "    tabela_resultado['Resultados do teste'] = resultados\n",
    "\n",
    "    #Verificando a ocorrência de Verdadeiros Positivos, Falsos Positivos, Verdadeiros Negativos e Falsos Negativos\n",
    "    somaVerdadeirosPositivos = 0\n",
    "    somaFalsosPositivos = 0\n",
    "    somaVerdadeirosNegativos = 0\n",
    "    somaFalsosNegativos = 0\n",
    "    for i in range(0,200):\n",
    "        if tabela_resultado['Relevância'][i] == 1 and tabela_resultado['Resultados do teste'][i] == 1:\n",
    "            somaVerdadeirosPositivos += 1\n",
    "        if tabela_resultado['Relevância'][i] == 0 and tabela_resultado['Resultados do teste'][i] == 1:\n",
    "            somaFalsosPositivos += 1\n",
    "        if tabela_resultado['Relevância'][i] == 0 and tabela_resultado['Resultados do teste'][i] == 0:\n",
    "            somaVerdadeirosNegativos += 1\n",
    "        if tabela_resultado['Relevância'][i] == 1 and tabela_resultado['Resultados do teste'][i] == 0:\n",
    "            somaFalsosNegativos += 1\n",
    "    total = somaVerdadeirosPositivos + somaFalsosPositivos + somaVerdadeirosNegativos + somaFalsosNegativos \n",
    "    \n",
    "    #Cálculo da porcentagem de cada ocorrência\n",
    "    VerdadeirosPositivos = somaVerdadeirosPositivos/total\n",
    "    FalsosPositivos = somaFalsosPositivos/total\n",
    "    VerdadeirosNegativos = somaVerdadeirosNegativos/total\n",
    "    FalsosNegativos = somaFalsosNegativos/total\n",
    "    \n",
    "    #Cálcul da acurácia do Classificador\n",
    "    acuracia = VerdadeirosPositivos + VerdadeirosNegativos\n",
    "    lista_acuracia.append(acuracia)\n",
    "    \n",
    "    #Atualização do contador para iniciar um novo teste\n",
    "    contador += 1"
   ]
  },
  {
   "cell_type": "code",
   "execution_count": 13,
   "metadata": {},
   "outputs": [
    {
     "data": {
      "text/plain": [
       "Text(0.5, 0, 'Acurácia')"
      ]
     },
     "execution_count": 13,
     "metadata": {},
     "output_type": "execute_result"
    },
    {
     "data": {
      "image/png": "[encoded data removed]",
      "text/plain": [
       "<Figure size 1080x360 with 1 Axes>"
      ]
     },
     "metadata": {
      "needs_background": "light"
     },
     "output_type": "display_data"
    }
   ],
   "source": [
    "#Plotagem do histograma com os valores obtidos de acurácia para cada teste do Classificador\n",
    "faixa = np.arange(0.4,0.7,0.01)\n",
    "\n",
    "plt.figure(figsize=(15, 5))\n",
    "\n",
    "plt.subplot(121)\n",
    "plt.hist(lista_acuracia, bins=faixa, edgecolor='white')\n",
    "plt.title('Acurácia do Classificador')\n",
    "plt.ylabel('densidade')\n",
    "plt.xlabel('Acurácia')"
   ]
  },
  {
   "cell_type": "markdown",
   "metadata": {},
   "source": [
    "Com a análise do histograma, é possível concluir que temos uma clara desvantagem ao construir um\n",
    "Classificador considerando uma única vez a divisão da base de dados em treinamento e em\n",
    "teste, pois a acurácia do Classificador pode variar muito dependendo da base de dados. Dessa forma, ao se basear em um único agrupamento de dados, podemos obter tanto uma acurácia que supera os 60%, quanto uma que seja menor que 50%."
   ]
  },
  {
   "cell_type": "markdown",
   "metadata": {},
   "source": [
    "___\n",
    "## Aperfeiçoamento:\n",
    "\n",
    "Trabalhos que conseguirem pelo menos conceito B vão evoluir em conceito dependendo da quantidade de itens avançados:\n",
    "\n",
    "* IMPLEMENTOU outras limpezas e transformações que não afetem a qualidade da informação contida nos tweets. Ex: stemming, lemmatization, stopwords\n",
    "* CORRIGIU separação de espaços entre palavras e emojis ou entre emojis e emojis\n",
    "* CRIOU categorias intermediárias de relevância baseadas na probabilidade: ex.: muito relevante, relevante, neutro, irrelevante, muito irrelevante. Pelo menos quatro categorias, com adição de mais tweets na base, conforme enunciado. (OBRIGATÓRIO PARA TRIOS, sem contar como item avançado)\n",
    "* EXPLICOU porquê não pode usar o próprio classificador para gerar mais amostras de treinamento\n",
    "* PROPÔS diferentes cenários para Naïve Bayes fora do contexto do projeto\n",
    "* SUGERIU e EXPLICOU melhorias reais com indicações concretas de como implementar (indicar como fazer e indicar material de pesquisa)\n",
    "* FEZ o item 6. Qualidade do Classificador a partir de novas separações dos tweets entre Treinamento e Teste descrito no enunciado do projeto (OBRIGATÓRIO para conceitos A ou A+)"
   ]
  },
  {
   "cell_type": "markdown",
   "metadata": {},
   "source": [
    "___\n",
    "## Referências"
   ]
  },
  {
   "cell_type": "markdown",
   "metadata": {},
   "source": [
    "[Naive Bayes and Text Classification](https://arxiv.org/pdf/1410.5329.pdf)  **Mais completo**\n",
    "\n",
    "[A practical explanation of a Naive Bayes Classifier](https://monkeylearn.com/blog/practical-explanation-naive-bayes-classifier/) **Mais simples**"
   ]
  },
  {
   "cell_type": "code",
   "execution_count": null,
   "metadata": {},
   "outputs": [],
   "source": []
  }
 ],
 "metadata": {
  "kernelspec": {
   "display_name": "Python 3",
   "language": "python",
   "name": "python3"
  },
  "language_info": {
   "codemirror_mode": {
    "name": "ipython",
    "version": 3
   },
   "file_extension": ".py",
   "mimetype": "text/x-python",
   "name": "python",
   "nbconvert_exporter": "python",
   "pygments_lexer": "ipython3",
   "version": "3.8.8"
  }
 },
 "nbformat": 4,
 "nbformat_minor": 4
}
